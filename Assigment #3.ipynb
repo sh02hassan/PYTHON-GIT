{
 "cells": [
  {
   "cell_type": "markdown",
   "metadata": {},
   "source": [
    "### 1. Make a calculator using Python with addition , subtraction , multiplication , division and power."
   ]
  },
  {
   "cell_type": "code",
   "execution_count": 1,
   "metadata": {},
   "outputs": [
    {
     "name": "stdout",
     "output_type": "stream",
     "text": [
      "enter a first number: 6\n",
      "enter a second number: 9\n",
      "enter an operator: +\n",
      "Sum of 6 , 9 : 15\n"
     ]
    }
   ],
   "source": [
    "x = int(input (\"enter a first number: \"))\n",
    "y = int(input (\"enter a second number: \"))\n",
    "\n",
    "z = input(\"enter an operator: \")\n",
    "\n",
    "if z == \"+\":\n",
    "    print(f\"Sum of {x} , {y} :\",x+y)\n",
    "elif z == \"-\":\n",
    "    print(f\"Differnce of {x} , {y} :\",x-y)\n",
    "elif z== \"/\":\n",
    "    print(f\"Division of {x} , {y} :\",round(x/y,2))\n",
    "elif z== \"*\":\n",
    "    print(f\"Multiplication of {x} , {y} :\",x*y)\n",
    "elif z== \"^\":\n",
    "    print(f\"{x} to the power of {y} : \",x**y)\n",
    "else:\n",
    "    print(f\"{z} :operator is not supported\")"
   ]
  },
  {
   "cell_type": "markdown",
   "metadata": {},
   "source": [
    "### 2. Write a program to check if there is any numeric value in list using for loop"
   ]
  },
  {
   "cell_type": "code",
   "execution_count": 2,
   "metadata": {},
   "outputs": [
    {
     "name": "stdout",
     "output_type": "stream",
     "text": [
      "There is a numeric value\n"
     ]
    }
   ],
   "source": [
    "l = [\"Engineering\",\"PAKISTAN\",5]\n",
    "for x in (l):\n",
    "    if ( str !=type(x) ):\n",
    "        print(\"There is a numeric value\")   "
   ]
  },
  {
   "cell_type": "markdown",
   "metadata": {},
   "source": [
    "### 3. Write a Python script to add a key to a dictionary"
   ]
  },
  {
   "cell_type": "code",
   "execution_count": 4,
   "metadata": {},
   "outputs": [
    {
     "name": "stdout",
     "output_type": "stream",
     "text": [
      "before editting : {'I AM': 'INTELLIGENT', 'HERO': 'QUAID-E-AZAM'}\n",
      "after editting : {'I AM': 'INTELLIGENT', 'HERO': 'QUAID-E-AZAM', 'POET-OF-NATION': 'ALLAMAIQBAL'}\n"
     ]
    }
   ],
   "source": [
    "my_dict= {\"I AM\":'INTELLIGENT',\"HERO\":\"QUAID-E-AZAM\"}\n",
    "\n",
    "print(f\"before editting : {my_dict}\")\n",
    "\n",
    "my_dict[\"POET-OF-NATION\"] = \"ALLAMAIQBAL\"\n",
    "\n",
    "print(f\"after editting : {my_dict}\")"
   ]
  },
  {
   "cell_type": "markdown",
   "metadata": {},
   "source": [
    "### 4. Write a Python program to sum all the numeric items in a dictionary"
   ]
  },
  {
   "cell_type": "code",
   "execution_count": 5,
   "metadata": {},
   "outputs": [
    {
     "name": "stdout",
     "output_type": "stream",
     "text": [
      "sum of all numeric keys is:  0\n",
      "sum of all numeric values is:  35\n"
     ]
    }
   ],
   "source": [
    "my_dict ={\"COLOR\":10,\"LUCKY-NUMBER\":25,\"65\":\"ANIMALS\"}\n",
    "\n",
    "sum_key = []\n",
    "sum_values = []\n",
    "\n",
    "for x,y in my_dict.items():\n",
    "    if type(x) != str:\n",
    "        sum_key.append(x)\n",
    "    if type(y) != str:\n",
    "        sum_values.append(y)\n",
    "        \n",
    "print(\"sum of all numeric keys is: \",sum(sum_key))\n",
    "print(\"sum of all numeric values is: \",sum(sum_values))"
   ]
  },
  {
   "cell_type": "markdown",
   "metadata": {},
   "source": [
    "### 5. Write a program to identify duplicate values from list"
   ]
  },
  {
   "cell_type": "code",
   "execution_count": 6,
   "metadata": {},
   "outputs": [
    {
     "name": "stdout",
     "output_type": "stream",
     "text": [
      "duplicate values exist\n"
     ]
    }
   ],
   "source": [
    "l = [0,0,55,\"HAMMAD\",\"HAMMAD\"]\n",
    "d=[]\n",
    "for x in range(len(l)):\n",
    "    if l[x] not in d:\n",
    "        d.append(l[x])\n",
    "        \n",
    "if len(l) == len(d):\n",
    "        print(\"there is no duplicate values\")\n",
    "else:\n",
    "    print(\"duplicate values exist\")"
   ]
  },
  {
   "cell_type": "markdown",
   "metadata": {},
   "source": [
    "### 6. Write a Python script to check if a given key already exists in a dictionary"
   ]
  },
  {
   "cell_type": "code",
   "execution_count": 7,
   "metadata": {},
   "outputs": [
    {
     "data": {
      "text/plain": [
       "{'HAMMAD': 'AMEEN', 'EDUCATION': \"BACHLOR'S\"}"
      ]
     },
     "execution_count": 7,
     "metadata": {},
     "output_type": "execute_result"
    }
   ],
   "source": [
    "my_dict = {\"HAMMAD\":\"AMEEN\",\"EDUCATION\":\"INTER\",\"EDUCATION\":\"BACHLOR'S\"} \n",
    "my_dict\n"
   ]
  },
  {
   "cell_type": "markdown",
   "metadata": {},
   "source": [
    "### ANS. Duplicate keys does not exist in python  it overwrites the values if key already present."
   ]
  }
 ],
 "metadata": {
  "kernelspec": {
   "display_name": "Python 3",
   "language": "python",
   "name": "python3"
  },
  "language_info": {
   "codemirror_mode": {
    "name": "ipython",
    "version": 3
   },
   "file_extension": ".py",
   "mimetype": "text/x-python",
   "name": "python",
   "nbconvert_exporter": "python",
   "pygments_lexer": "ipython3",
   "version": "3.6.5"
  }
 },
 "nbformat": 4,
 "nbformat_minor": 2
}
