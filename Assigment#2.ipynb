{
 "cells": [
  {
   "cell_type": "markdown",
   "metadata": {},
   "source": [
    "### 1. Write a program which takes 5 inputs from user for different subject’s marks, total it and generate mark sheet using grades ?"
   ]
  },
  {
   "cell_type": "code",
   "execution_count": 1,
   "metadata": {},
   "outputs": [
    {
     "name": "stdout",
     "output_type": "stream",
     "text": [
      "enter your Mathematics marks out of 100: 79\n",
      "enter your Sociology  marks out of 100: 89\n",
      "enter your  Biolgy marks out of 100: 79\n",
      "enter your Islamiat marks out of 100: 59\n",
      "enter your Urdu marks out of 100: 89\n",
      "\n",
      "percentage: 79.0\n",
      "\n",
      "Grade \n",
      " B grade\n"
     ]
    }
   ],
   "source": [
    "x = int(input(\"enter your Mathematics marks out of 100: \"))\n",
    "y = int(input(\"enter your Sociology  marks out of 100: \"))\n",
    "z = int(input(\"enter your  Biolgy marks out of 100: \"))\n",
    "w = int(input(\"enter your Islamiat marks out of 100: \"))\n",
    "v = int(input(\"enter your Urdu marks out of 100: \"))\n",
    "\n",
    "total_marks = 500\n",
    "total_obtained_marks = v + w + x + y + z\n",
    "\n",
    "Percentile = (total_obtained_marks / total_marks) * 100\n",
    "print(f\"\\npercentage: {Percentile}\")\n",
    "\n",
    "if Percentile >=80 :\n",
    "    print (\"\\nGRADE \\n A grade\")\n",
    "elif (Percentile < 80) or (percentile >= 70):\n",
    "    print (\"\\nGrade \\n B grade\")\n",
    "else :\n",
    "    print (\"\\nGrade \\n Fail\")\n",
    "    \n",
    "\n"
   ]
  },
  {
   "cell_type": "markdown",
   "metadata": {},
   "source": [
    "### 2. Write a program which take input from user and identify that the given number is even or odd?"
   ]
  },
  {
   "cell_type": "code",
   "execution_count": 2,
   "metadata": {},
   "outputs": [
    {
     "name": "stdout",
     "output_type": "stream",
     "text": [
      "Enter a Number: 56\n",
      "56 is an even number\n"
     ]
    }
   ],
   "source": [
    "n = int(input(\"Enter a Number: \"))\n",
    "\n",
    "if n==0:\n",
    "    print(f\"{n} is an even number\")\n",
    "elif n%2 == 0:\n",
    "    print(f\"{n} is an even number\")\n",
    "else: \n",
    "    print(f\"{n} is an odd number\")"
   ]
  },
  {
   "cell_type": "markdown",
   "metadata": {},
   "source": [
    "### 3. Write a program which print the length of the list?"
   ]
  },
  {
   "cell_type": "code",
   "execution_count": 3,
   "metadata": {},
   "outputs": [
    {
     "data": {
      "text/plain": [
       "10"
      ]
     },
     "execution_count": 3,
     "metadata": {},
     "output_type": "execute_result"
    }
   ],
   "source": [
    "n =[2,10,\"apple\",\"ball\",0.005,[8,16,17],\"car\" ,\"aeroplane\", \"icecream\",\"nothing_to_worry\"]\n",
    "len(n)"
   ]
  },
  {
   "cell_type": "markdown",
   "metadata": {},
   "source": [
    "### 4.Write a Python program to sum all the numeric items in a list?"
   ]
  },
  {
   "cell_type": "code",
   "execution_count": 4,
   "metadata": {},
   "outputs": [
    {
     "name": "stdout",
     "output_type": "stream",
     "text": [
      "sum of integer values in list: 53\n"
     ]
    }
   ],
   "source": [
    "x= [2,10,\"apple\",\"ball\",8,16,17,\"car\"]\n",
    "v= 0\n",
    "for num in x:\n",
    "    if isinstance(num, int):\n",
    "        v+=num\n",
    "print(f\"sum of integer values in list: {v}\" ) "
   ]
  },
  {
   "cell_type": "markdown",
   "metadata": {},
   "source": [
    "### 5.Write a Python program to get the largest number from a numeric list."
   ]
  },
  {
   "cell_type": "code",
   "execution_count": 5,
   "metadata": {},
   "outputs": [
    {
     "data": {
      "text/plain": [
       "225"
      ]
     },
     "execution_count": 5,
     "metadata": {},
     "output_type": "execute_result"
    }
   ],
   "source": [
    "h = [0,1,4,5,8,99,119,225,84]\n",
    "max(h)"
   ]
  },
  {
   "cell_type": "markdown",
   "metadata": {},
   "source": [
    "### 6. Take a list, say for example this one:\n",
    "### a = [1, 1, 2, 3, 5, 8, 13, 21, 34, 55, 89]\n",
    "### and write a program that prints out all the elements of the list that are less than 5."
   ]
  },
  {
   "cell_type": "code",
   "execution_count": 6,
   "metadata": {},
   "outputs": [
    {
     "name": "stdout",
     "output_type": "stream",
     "text": [
      "[1, 1, 2, 3]\n"
     ]
    }
   ],
   "source": [
    "a = [1, 1, 2, 3, 5, 8, 13, 21, 34, 55, 89]\n",
    "v = []\n",
    "for num in a:\n",
    "    if num < 5:\n",
    "        v.append(num)\n",
    "print(v)\n",
    "\n"
   ]
  }
 ],
 "metadata": {
  "kernelspec": {
   "display_name": "Python 3",
   "language": "python",
   "name": "python3"
  },
  "language_info": {
   "codemirror_mode": {
    "name": "ipython",
    "version": 3
   },
   "file_extension": ".py",
   "mimetype": "text/x-python",
   "name": "python",
   "nbconvert_exporter": "python",
   "pygments_lexer": "ipython3",
   "version": "3.6.5"
  }
 },
 "nbformat": 4,
 "nbformat_minor": 2
}
