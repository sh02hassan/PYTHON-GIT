#Question-1
print("Twinkle, twinkle, little star,/n /t How I wonder what you are! /n /t /t Up above the world so high, /n /t /t Like a dimond in the sky, /n Twinkle, twinkle ,little star /n /t How I wonder what you are")

#Question-2
import sys
print(sys.version)

#Question-3
import datetime
now = datetime.datetime.now()
print ("Current date and time : ")
print (now.strftime("%Y-%m-%d %H:%M:%S"))

#Question-4
PIE = 3.142
r = float(input('Enter the radius of the circle :'))
area = PIE * r * r
print("Area of the circle is : %.2f" %area)

#Question-5
First_name = input("Input your First Name : ")
Last_name = input("Input your Last Name : ")
print ("Hello  " + Last_name + " " + First_name)

#Question-6
a = int(input("enter first number: "))
b = int(input("enter second number: "))
 
sum = a + b
 
print("sum:", sum)






